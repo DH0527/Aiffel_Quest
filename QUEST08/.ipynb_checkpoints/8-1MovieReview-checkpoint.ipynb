{
 "cells": [
  {
   "cell_type": "code",
   "execution_count": 1,
   "id": "4b5e7625",
   "metadata": {},
   "outputs": [],
   "source": [
    "import tensorflow as tf\n",
    "import os \n",
    "\n",
    "from konlpy.tag import Mecab\n",
    "import numpy as np\n",
    "from collections import Counter\n",
    "import pandas as pd\n",
    "\n",
    "import matplotlib.pyplot as plt\n",
    "\n",
    "\n",
    "\n",
    "# 모델구성\n",
    "from keras.models import Sequential\n",
    "\n",
    "# 1D CNN\n",
    "from tensorflow.keras.layers import Conv1D, GlobalMaxPooling1D, Embedding\n",
    "\n",
    "# LSTM\n",
    "from tensorflow.keras.layers import Embedding, LSTM, Dense\n",
    "\n",
    "# Attention\n",
    "from tensorflow.keras.layers import Bidirectional, Attention\n",
    "\n",
    "# GRU\n",
    "from tensorflow.keras.layers import GRU"
   ]
  },
  {
   "cell_type": "code",
   "execution_count": 2,
   "id": "d1b2054e",
   "metadata": {},
   "outputs": [
    {
     "name": "stdout",
     "output_type": "stream",
     "text": [
      "1.3.3\n",
      "0.5.2\n",
      "4.1.2\n"
     ]
    }
   ],
   "source": [
    "import konlpy\n",
    "import gensim\n",
    "\n",
    "print(pd.__version__)\n",
    "print(konlpy.__version__)\n",
    "print(gensim.__version__)"
   ]
  },
  {
   "cell_type": "code",
   "execution_count": 3,
   "id": "7cdfc8fe",
   "metadata": {},
   "outputs": [
    {
     "data": {
      "text/html": [
       "<div>\n",
       "<style scoped>\n",
       "    .dataframe tbody tr th:only-of-type {\n",
       "        vertical-align: middle;\n",
       "    }\n",
       "\n",
       "    .dataframe tbody tr th {\n",
       "        vertical-align: top;\n",
       "    }\n",
       "\n",
       "    .dataframe thead th {\n",
       "        text-align: right;\n",
       "    }\n",
       "</style>\n",
       "<table border=\"1\" class=\"dataframe\">\n",
       "  <thead>\n",
       "    <tr style=\"text-align: right;\">\n",
       "      <th></th>\n",
       "      <th>id</th>\n",
       "      <th>document</th>\n",
       "      <th>label</th>\n",
       "    </tr>\n",
       "  </thead>\n",
       "  <tbody>\n",
       "    <tr>\n",
       "      <th>149995</th>\n",
       "      <td>6222902</td>\n",
       "      <td>인간이 문제지.. 소는 뭔죄인가..</td>\n",
       "      <td>0</td>\n",
       "    </tr>\n",
       "    <tr>\n",
       "      <th>149996</th>\n",
       "      <td>8549745</td>\n",
       "      <td>평점이 너무 낮아서...</td>\n",
       "      <td>1</td>\n",
       "    </tr>\n",
       "    <tr>\n",
       "      <th>149997</th>\n",
       "      <td>9311800</td>\n",
       "      <td>이게 뭐요? 한국인은 거들먹거리고 필리핀 혼혈은 착하다?</td>\n",
       "      <td>0</td>\n",
       "    </tr>\n",
       "    <tr>\n",
       "      <th>149998</th>\n",
       "      <td>2376369</td>\n",
       "      <td>청춘 영화의 최고봉.방황과 우울했던 날들의 자화상</td>\n",
       "      <td>1</td>\n",
       "    </tr>\n",
       "    <tr>\n",
       "      <th>149999</th>\n",
       "      <td>9619869</td>\n",
       "      <td>한국 영화 최초로 수간하는 내용이 담긴 영화</td>\n",
       "      <td>0</td>\n",
       "    </tr>\n",
       "  </tbody>\n",
       "</table>\n",
       "</div>"
      ],
      "text/plain": [
       "             id                         document  label\n",
       "149995  6222902              인간이 문제지.. 소는 뭔죄인가..      0\n",
       "149996  8549745                    평점이 너무 낮아서...      1\n",
       "149997  9311800  이게 뭐요? 한국인은 거들먹거리고 필리핀 혼혈은 착하다?      0\n",
       "149998  2376369      청춘 영화의 최고봉.방황과 우울했던 날들의 자화상      1\n",
       "149999  9619869         한국 영화 최초로 수간하는 내용이 담긴 영화      0"
      ]
     },
     "execution_count": 3,
     "metadata": {},
     "output_type": "execute_result"
    }
   ],
   "source": [
    "# 데이터를 읽어봅시다. \n",
    "train_data = pd.read_table('~/aiffel/sentiment_classification/data/ratings_train.txt')\n",
    "test_data = pd.read_table('~/aiffel/sentiment_classification/data/ratings_test.txt')\n",
    "\n",
    "train_data.tail()"
   ]
  },
  {
   "cell_type": "code",
   "execution_count": 4,
   "id": "6837b7ed",
   "metadata": {},
   "outputs": [
    {
     "data": {
      "text/html": [
       "<div>\n",
       "<style scoped>\n",
       "    .dataframe tbody tr th:only-of-type {\n",
       "        vertical-align: middle;\n",
       "    }\n",
       "\n",
       "    .dataframe tbody tr th {\n",
       "        vertical-align: top;\n",
       "    }\n",
       "\n",
       "    .dataframe thead th {\n",
       "        text-align: right;\n",
       "    }\n",
       "</style>\n",
       "<table border=\"1\" class=\"dataframe\">\n",
       "  <thead>\n",
       "    <tr style=\"text-align: right;\">\n",
       "      <th></th>\n",
       "      <th>id</th>\n",
       "      <th>document</th>\n",
       "      <th>label</th>\n",
       "    </tr>\n",
       "  </thead>\n",
       "  <tbody>\n",
       "    <tr>\n",
       "      <th>49995</th>\n",
       "      <td>4608761</td>\n",
       "      <td>오랜만에 평점 로긴했네ㅋㅋ 킹왕짱 쌈뽕한 영화를 만났습니다 강렬하게 육쾌함</td>\n",
       "      <td>1</td>\n",
       "    </tr>\n",
       "    <tr>\n",
       "      <th>49996</th>\n",
       "      <td>5308387</td>\n",
       "      <td>의지 박약들이나 하는거다 탈영은 일단 주인공 김대희 닮았고 이등병 찐따 OOOO</td>\n",
       "      <td>0</td>\n",
       "    </tr>\n",
       "    <tr>\n",
       "      <th>49997</th>\n",
       "      <td>9072549</td>\n",
       "      <td>그림도 좋고 완성도도 높았지만... 보는 내내 불안하게 만든다</td>\n",
       "      <td>0</td>\n",
       "    </tr>\n",
       "    <tr>\n",
       "      <th>49998</th>\n",
       "      <td>5802125</td>\n",
       "      <td>절대 봐서는 안 될 영화.. 재미도 없고 기분만 잡치고.. 한 세트장에서 다 해먹네</td>\n",
       "      <td>0</td>\n",
       "    </tr>\n",
       "    <tr>\n",
       "      <th>49999</th>\n",
       "      <td>6070594</td>\n",
       "      <td>마무리는 또 왜이래</td>\n",
       "      <td>0</td>\n",
       "    </tr>\n",
       "  </tbody>\n",
       "</table>\n",
       "</div>"
      ],
      "text/plain": [
       "            id                                        document  label\n",
       "49995  4608761       오랜만에 평점 로긴했네ㅋㅋ 킹왕짱 쌈뽕한 영화를 만났습니다 강렬하게 육쾌함      1\n",
       "49996  5308387    의지 박약들이나 하는거다 탈영은 일단 주인공 김대희 닮았고 이등병 찐따 OOOO      0\n",
       "49997  9072549              그림도 좋고 완성도도 높았지만... 보는 내내 불안하게 만든다      0\n",
       "49998  5802125  절대 봐서는 안 될 영화.. 재미도 없고 기분만 잡치고.. 한 세트장에서 다 해먹네      0\n",
       "49999  6070594                                      마무리는 또 왜이래      0"
      ]
     },
     "execution_count": 4,
     "metadata": {},
     "output_type": "execute_result"
    }
   ],
   "source": [
    "test_data.tail()"
   ]
  },
  {
   "cell_type": "code",
   "execution_count": 5,
   "id": "d58975fe",
   "metadata": {},
   "outputs": [
    {
     "data": {
      "text/html": [
       "<div>\n",
       "<style scoped>\n",
       "    .dataframe tbody tr th:only-of-type {\n",
       "        vertical-align: middle;\n",
       "    }\n",
       "\n",
       "    .dataframe tbody tr th {\n",
       "        vertical-align: top;\n",
       "    }\n",
       "\n",
       "    .dataframe thead th {\n",
       "        text-align: right;\n",
       "    }\n",
       "</style>\n",
       "<table border=\"1\" class=\"dataframe\">\n",
       "  <thead>\n",
       "    <tr style=\"text-align: right;\">\n",
       "      <th></th>\n",
       "      <th>id</th>\n",
       "      <th>document</th>\n",
       "      <th>label</th>\n",
       "    </tr>\n",
       "  </thead>\n",
       "  <tbody>\n",
       "    <tr>\n",
       "      <th>0</th>\n",
       "      <td>9976970</td>\n",
       "      <td>아 더빙.. 진짜 짜증나네요 목소리</td>\n",
       "      <td>0</td>\n",
       "    </tr>\n",
       "    <tr>\n",
       "      <th>1</th>\n",
       "      <td>3819312</td>\n",
       "      <td>흠...포스터보고 초딩영화줄....오버연기조차 가볍지 않구나</td>\n",
       "      <td>1</td>\n",
       "    </tr>\n",
       "    <tr>\n",
       "      <th>2</th>\n",
       "      <td>10265843</td>\n",
       "      <td>너무재밓었다그래서보는것을추천한다</td>\n",
       "      <td>0</td>\n",
       "    </tr>\n",
       "    <tr>\n",
       "      <th>3</th>\n",
       "      <td>9045019</td>\n",
       "      <td>교도소 이야기구먼 ..솔직히 재미는 없다..평점 조정</td>\n",
       "      <td>0</td>\n",
       "    </tr>\n",
       "    <tr>\n",
       "      <th>4</th>\n",
       "      <td>6483659</td>\n",
       "      <td>사이몬페그의 익살스런 연기가 돋보였던 영화!스파이더맨에서 늙어보이기만 했던 커스틴 ...</td>\n",
       "      <td>1</td>\n",
       "    </tr>\n",
       "    <tr>\n",
       "      <th>...</th>\n",
       "      <td>...</td>\n",
       "      <td>...</td>\n",
       "      <td>...</td>\n",
       "    </tr>\n",
       "    <tr>\n",
       "      <th>149995</th>\n",
       "      <td>6222902</td>\n",
       "      <td>인간이 문제지.. 소는 뭔죄인가..</td>\n",
       "      <td>0</td>\n",
       "    </tr>\n",
       "    <tr>\n",
       "      <th>149996</th>\n",
       "      <td>8549745</td>\n",
       "      <td>평점이 너무 낮아서...</td>\n",
       "      <td>1</td>\n",
       "    </tr>\n",
       "    <tr>\n",
       "      <th>149997</th>\n",
       "      <td>9311800</td>\n",
       "      <td>이게 뭐요? 한국인은 거들먹거리고 필리핀 혼혈은 착하다?</td>\n",
       "      <td>0</td>\n",
       "    </tr>\n",
       "    <tr>\n",
       "      <th>149998</th>\n",
       "      <td>2376369</td>\n",
       "      <td>청춘 영화의 최고봉.방황과 우울했던 날들의 자화상</td>\n",
       "      <td>1</td>\n",
       "    </tr>\n",
       "    <tr>\n",
       "      <th>149999</th>\n",
       "      <td>9619869</td>\n",
       "      <td>한국 영화 최초로 수간하는 내용이 담긴 영화</td>\n",
       "      <td>0</td>\n",
       "    </tr>\n",
       "  </tbody>\n",
       "</table>\n",
       "<p>149995 rows × 3 columns</p>\n",
       "</div>"
      ],
      "text/plain": [
       "              id                                           document  label\n",
       "0        9976970                                아 더빙.. 진짜 짜증나네요 목소리      0\n",
       "1        3819312                  흠...포스터보고 초딩영화줄....오버연기조차 가볍지 않구나      1\n",
       "2       10265843                                  너무재밓었다그래서보는것을추천한다      0\n",
       "3        9045019                      교도소 이야기구먼 ..솔직히 재미는 없다..평점 조정      0\n",
       "4        6483659  사이몬페그의 익살스런 연기가 돋보였던 영화!스파이더맨에서 늙어보이기만 했던 커스틴 ...      1\n",
       "...          ...                                                ...    ...\n",
       "149995   6222902                                인간이 문제지.. 소는 뭔죄인가..      0\n",
       "149996   8549745                                      평점이 너무 낮아서...      1\n",
       "149997   9311800                    이게 뭐요? 한국인은 거들먹거리고 필리핀 혼혈은 착하다?      0\n",
       "149998   2376369                        청춘 영화의 최고봉.방황과 우울했던 날들의 자화상      1\n",
       "149999   9619869                           한국 영화 최초로 수간하는 내용이 담긴 영화      0\n",
       "\n",
       "[149995 rows x 3 columns]"
      ]
     },
     "execution_count": 5,
     "metadata": {},
     "output_type": "execute_result"
    }
   ],
   "source": [
    "train_data.drop_duplicates(subset=['document'], inplace=False)\n",
    "train_data = train_data.dropna(how = 'any') \n",
    "train_data"
   ]
  },
  {
   "cell_type": "markdown",
   "id": "6c580476",
   "metadata": {},
   "source": [
    "### (2) 데이터로더 구성\n",
    "\n",
    "- 데이터의 중복 제거 <br>\n",
    "- NaN 결측치 제거 <br>\n",
    "- 한국어 토크나이저로 토큰화\n",
    "- 불용어(Stopwords) 제거\n",
    "- 사전 word_to_index 구성\n",
    "- 텍스트 스트링을 사전 인덱스 스트링으로 변환\n",
    "- X_train, y_train, X_test, y_test, word_to_index 리턴"
   ]
  },
  {
   "cell_type": "code",
   "execution_count": 6,
   "id": "e1f105f9",
   "metadata": {
    "scrolled": true
   },
   "outputs": [],
   "source": [
    "tokenizer = Mecab()\n",
    "stopwords = ['의','가','이','은','들','는','좀','잘','걍','과','도','를','으로','자','에','와','한','하다']\n",
    "\n",
    "def load_data(train_data, test_data, num_words=10000):\n",
    "    train_data.drop_duplicates(subset=['document'], inplace=True)\n",
    "    train_data = train_data.dropna(how='any')\n",
    "    test_data.drop_duplicates(subset=['document'], inplace=True)\n",
    "    test_data = test_data.dropna(how='any')\n",
    "\n",
    "    X_train= []\n",
    "    for sentence in train_data['document']:\n",
    "        temp_X = tokenizer.morphs(sentence)\n",
    "        temp_X = [word for word in temp_X if not word in stopwords]\n",
    "        X_train.append(temp_X)\n",
    "\n",
    "    X_test = []\n",
    "    for sentence in test_data['document']:\n",
    "        temp_X = tokenizer.morphs(sentence)\n",
    "        temp_X = [word for word in temp_X if not word in stopwords]\n",
    "        X_test.append(temp_X)\n",
    "\n",
    "    words = np.concatenate(X_train).tolist()\n",
    "    counter = Counter(words)\n",
    "    counter = counter.most_common(10000-4)\n",
    "    vocab = ['<PAD>','<BOS>', '<UNK>', '<UNUSED>'] + [key for key, _ in counter]\n",
    "    word_to_index = {word:index for index, word in enumerate(vocab)}\n",
    "\n",
    "    def wordlist_to_indexlist(wordlist):\n",
    "        return [word_to_index[word] if word in word_to_index else word_to_index['<UNK>'] for word in wordlist]\n",
    "        \n",
    "    X_train = list(map(wordlist_to_indexlist, X_train))\n",
    "    X_test = list(map(wordlist_to_indexlist, X_test))\n",
    "        \n",
    "    return X_train, np.array(list(train_data['label'])), X_test, np.array(list(test_data['label'])), word_to_index\n",
    "    \n",
    "X_train, y_train, X_test, y_test, word_to_index = load_data(train_data, test_data)"
   ]
  },
  {
   "cell_type": "code",
   "execution_count": 7,
   "id": "f0ecc369",
   "metadata": {
    "scrolled": true
   },
   "outputs": [
    {
     "name": "stdout",
     "output_type": "stream",
     "text": [
      "146182 146182\n",
      "49157 49157\n"
     ]
    }
   ],
   "source": [
    "print(len(X_train), len(y_train)) # 146182, 146182\n",
    "print(len(X_test), len(y_test)) # 49157, 49157"
   ]
  },
  {
   "cell_type": "code",
   "execution_count": 8,
   "id": "ee1c7b2c",
   "metadata": {},
   "outputs": [],
   "source": [
    "index_to_word = {index:word for word, index in word_to_index.items()}"
   ]
  },
  {
   "cell_type": "code",
   "execution_count": 9,
   "id": "b177b954",
   "metadata": {},
   "outputs": [],
   "source": [
    "# 문장 1개를 활용할 딕셔너리와 함께 주면, 단어 인덱스 리스트 벡터로 변환해 주는 함수입니다. \n",
    "# 단, 모든 문장은 <BOS>로 시작하는 것으로 합니다. \n",
    "def get_encoded_sentence(sentence, word_to_index):\n",
    "    return [word_to_index['<BOS>']]+[word_to_index[word] if word in word_to_index else word_to_index['<UNK>'] for word in sentence.split()]\n",
    "\n",
    "# 여러 개의 문장 리스트를 한꺼번에 단어 인덱스 리스트 벡터로 encode해 주는 함수입니다. \n",
    "def get_encoded_sentences(sentences, word_to_index):\n",
    "    return [get_encoded_sentence(sentence, word_to_index) for sentence in sentences]\n",
    "\n",
    "# 숫자 벡터로 encode된 문장을 원래대로 decode하는 함수입니다. \n",
    "def get_decoded_sentence(encoded_sentence, index_to_word):\n",
    "    return ' '.join(index_to_word[index] if index in index_to_word else '<UNK>' for index in encoded_sentence[1:])  #[1:]를 통해 <BOS>를 제외\n",
    "\n",
    "# 여러 개의 숫자 벡터로 encode된 문장을 한꺼번에 원래대로 decode하는 함수입니다. \n",
    "def get_decoded_sentences(encoded_sentences, index_to_word):\n",
    "    return [get_decoded_sentence(encoded_sentence, index_to_word) for encoded_sentence in encoded_sentences]"
   ]
  },
  {
   "cell_type": "markdown",
   "id": "9471c4d9",
   "metadata": {},
   "source": [
    "### (3) 모델 구성을 위한 데이터 분석 및 가공\n",
    "\n",
    "- 데이터셋 내 문장 길이 분포 <br>\n",
    "- 적절한 최대 문장 길이 지정 <br>\n",
    "- keras.preprocessing.sequence.pad_sequences "
   ]
  },
  {
   "cell_type": "code",
   "execution_count": 10,
   "id": "27d8d289",
   "metadata": {},
   "outputs": [
    {
     "name": "stdout",
     "output_type": "stream",
     "text": [
      "num_tokens길이: 195339\n",
      "문장길이 최소: 0\n",
      "문장길이 최대: 116\n",
      "문장길이 평균: 15.96940191154864\n",
      "문장길이 표준편차: 12.843571191092\n"
     ]
    },
    {
     "data": {
      "image/png": "[encoded data removed]",
      "text/plain": [
       "<Figure size 432x288 with 1 Axes>"
      ]
     },
     "metadata": {
      "needs_background": "light"
     },
     "output_type": "display_data"
    }
   ],
   "source": [
    "# 데이터셋 내 문장 길이 분포 확인\n",
    "total_data_text = list(X_train) + list(X_test)\n",
    "num_tokens = [len(tokens) for tokens in total_data_text]\n",
    "num_tokens = np.array(num_tokens)\n",
    "print(\"num_tokens길이:\", len(num_tokens))  # 195399\n",
    "# print(num_tokens)\n",
    "\n",
    "\n",
    "\n",
    "# 문장길이의 최소값, 최대값, 평균값, 표준편차\n",
    "print('문장길이 최소:', np.min(num_tokens))\n",
    "print('문장길이 최대:', np.max(num_tokens))\n",
    "print('문장길이 평균:', np.mean(num_tokens))\n",
    "print('문장길이 표준편차:', np.std(num_tokens))\n",
    "\n",
    "\n",
    "plt.hist(num_tokens, bins=100)\n",
    "plt.show()"
   ]
  },
  {
   "cell_type": "code",
   "execution_count": 11,
   "id": "27d21eef",
   "metadata": {},
   "outputs": [
    {
     "name": "stdout",
     "output_type": "stream",
     "text": [
      "pad_sequences maxlen : 41\n",
      "전체 문장의 0.9343%가 설정 가능한 범위내의 비율\n"
     ]
    }
   ],
   "source": [
    "# 최대 길이를 (평균 + 2*표준편차)로 한다면\n",
    "max_tokens = np.mean(num_tokens) + 2*np.std(num_tokens)\n",
    "maxlen = int(max_tokens)\n",
    "\n",
    "print('pad_sequences maxlen :', maxlen)\n",
    "ratio = np.sum(num_tokens<max_tokens)/len(num_tokens)\n",
    "print(f'전체 문장의 {round(ratio, 4)}%가 설정 가능한 범위내의 비율')\n",
    "# print('')"
   ]
  },
  {
   "cell_type": "code",
   "execution_count": 12,
   "id": "89052c39",
   "metadata": {},
   "outputs": [
    {
     "name": "stdout",
     "output_type": "stream",
     "text": [
      "(146182, 41)\n",
      "(49157, 41)\n"
     ]
    }
   ],
   "source": [
    "import tensorflow as tf\n",
    "\n",
    "X_train = tf.keras.preprocessing.sequence.pad_sequences(X_train, \n",
    "                                                        value = word_to_index['<PAD>'],\n",
    "                                                        padding='pre',  # 혹은 post\n",
    "                                                        maxlen = maxlen)\n",
    "X_test = tf.keras.preprocessing.sequence.pad_sequences(X_test,\n",
    "                                                       value=word_to_index[\"<PAD>\"],\n",
    "                                                       padding='pre', # 혹은 'post'\n",
    "                                                       maxlen=maxlen)\n",
    "\n",
    "\n",
    "\n",
    "print(X_train.shape)\n",
    "print(X_test.shape)"
   ]
  },
  {
   "cell_type": "code",
   "execution_count": 13,
   "id": "d015702e",
   "metadata": {},
   "outputs": [
    {
     "data": {
      "text/plain": [
       "10000"
      ]
     },
     "execution_count": 13,
     "metadata": {},
     "output_type": "execute_result"
    }
   ],
   "source": [
    "vocab_size = len(word_to_index)\n",
    "# num_words = 10000\n",
    "\n",
    "vocab_size"
   ]
  },
  {
   "cell_type": "markdown",
   "id": "0e4c9519",
   "metadata": {},
   "source": [
    "### (4) 모델 구성 및 validation set 구성\n",
    "\n",
    "(1) 1D CNN"
   ]
  },
  {
   "cell_type": "code",
   "execution_count": 14,
   "id": "2ad01aa2",
   "metadata": {},
   "outputs": [
    {
     "name": "stdout",
     "output_type": "stream",
     "text": [
      "Model: \"sequential\"\n",
      "_________________________________________________________________\n",
      "Layer (type)                 Output Shape              Param #   \n",
      "=================================================================\n",
      "embedding (Embedding)        (None, 41, 32)            320000    \n",
      "_________________________________________________________________\n",
      "conv1d (Conv1D)              (None, 35, 16)            3600      \n",
      "_________________________________________________________________\n",
      "max_pooling1d (MaxPooling1D) (None, 7, 16)             0         \n",
      "_________________________________________________________________\n",
      "conv1d_1 (Conv1D)            (None, 1, 16)             1808      \n",
      "_________________________________________________________________\n",
      "global_max_pooling1d (Global (None, 16)                0         \n",
      "_________________________________________________________________\n",
      "dense (Dense)                (None, 8)                 136       \n",
      "_________________________________________________________________\n",
      "dense_1 (Dense)              (None, 1)                 9         \n",
      "=================================================================\n",
      "Total params: 325,553\n",
      "Trainable params: 325,553\n",
      "Non-trainable params: 0\n",
      "_________________________________________________________________\n"
     ]
    }
   ],
   "source": [
    "word_vector_dim_cnn = 32\n",
    "\n",
    "\n",
    "model1 = tf.keras.Sequential()\n",
    "model1.add(Embedding(vocab_size, word_vector_dim_cnn, input_length = maxlen))\n",
    "model1.add(Conv1D(16, 7, activation='relu'))\n",
    "model1.add(tf.keras.layers.MaxPooling1D(5))\n",
    "model1.add(Conv1D(16, 7, activation='relu'))\n",
    "model1.add(GlobalMaxPooling1D())\n",
    "model1.add(Dense(8, activation='relu'))\n",
    "model1.add(Dense(1, activation='sigmoid'))\n",
    "\n",
    "model1.summary()"
   ]
  },
  {
   "cell_type": "markdown",
   "id": "685ec4bf",
   "metadata": {},
   "source": [
    "(2) LSTM"
   ]
  },
  {
   "cell_type": "code",
   "execution_count": 15,
   "id": "68764576",
   "metadata": {},
   "outputs": [
    {
     "name": "stdout",
     "output_type": "stream",
     "text": [
      "Model: \"sequential_1\"\n",
      "_________________________________________________________________\n",
      "Layer (type)                 Output Shape              Param #   \n",
      "=================================================================\n",
      "embedding_1 (Embedding)      (None, 41, 32)            320000    \n",
      "_________________________________________________________________\n",
      "lstm (LSTM)                  (None, 16)                3136      \n",
      "_________________________________________________________________\n",
      "dropout (Dropout)            (None, 16)                0         \n",
      "_________________________________________________________________\n",
      "dense_2 (Dense)              (None, 8)                 136       \n",
      "_________________________________________________________________\n",
      "dense_3 (Dense)              (None, 1)                 9         \n",
      "=================================================================\n",
      "Total params: 323,281\n",
      "Trainable params: 323,281\n",
      "Non-trainable params: 0\n",
      "_________________________________________________________________\n"
     ]
    }
   ],
   "source": [
    "word_vector_dim_lstm = 32  # 워드 벡터의 차원 수 (변경 가능한 하이퍼파라미터)\n",
    "\n",
    "model2 = tf.keras.Sequential()\n",
    "model2.add(tf.keras.layers.Embedding(vocab_size, word_vector_dim_lstm, input_length=maxlen))   # trainable을 True로 주면 Fine-tuning\n",
    "model2.add(tf.keras.layers.LSTM(16))\n",
    "model2.add(tf.keras.layers.Dropout(0.2))\n",
    "model2.add(tf.keras.layers.Dense(8, activation='sigmoid')) \n",
    "model2.add(tf.keras.layers.Dense(1, activation='sigmoid')) \n",
    "\n",
    "model2.summary()"
   ]
  },
  {
   "cell_type": "markdown",
   "id": "db7507fd",
   "metadata": {},
   "source": [
    "(3) GRU"
   ]
  },
  {
   "cell_type": "code",
   "execution_count": 16,
   "id": "a759df11",
   "metadata": {},
   "outputs": [
    {
     "name": "stdout",
     "output_type": "stream",
     "text": [
      "Model: \"sequential_2\"\n",
      "_________________________________________________________________\n",
      "Layer (type)                 Output Shape              Param #   \n",
      "=================================================================\n",
      "embedding_2 (Embedding)      (None, 41, 32)            320000    \n",
      "_________________________________________________________________\n",
      "gru (GRU)                    (None, 16)                2400      \n",
      "_________________________________________________________________\n",
      "dropout_1 (Dropout)          (None, 16)                0         \n",
      "_________________________________________________________________\n",
      "dense_4 (Dense)              (None, 8)                 136       \n",
      "_________________________________________________________________\n",
      "dense_5 (Dense)              (None, 1)                 9         \n",
      "=================================================================\n",
      "Total params: 322,545\n",
      "Trainable params: 322,545\n",
      "Non-trainable params: 0\n",
      "_________________________________________________________________\n"
     ]
    }
   ],
   "source": [
    "word_vector_dim_GRU = 32  # 단어 하나를 표현하는 임베딩 벡터의 차원수 (변경가능)\n",
    "\n",
    "# GRU 레이어로 모델 설계\n",
    "model3 = tf.keras.Sequential()\n",
    "model3.add(tf.keras.layers.Embedding(vocab_size, word_vector_dim_GRU, input_length = maxlen))\n",
    "model3.add(tf.keras.layers.GRU(16))  # GRU state 벡터의 차원수 (변경가능)\n",
    "model3.add(tf.keras.layers.Dropout(0.2))\n",
    "model3.add(tf.keras.layers.Dense(8, activation='sigmoid'))\n",
    "model3.add(tf.keras.layers.Dense(1, activation='sigmoid'))  # 최종 출력은 긍정/부정을 나타내는 1dim\n",
    "\n",
    "model3.summary()"
   ]
  },
  {
   "cell_type": "markdown",
   "id": "0dfbe469",
   "metadata": {},
   "source": [
    "(4) Bidirectional"
   ]
  },
  {
   "cell_type": "code",
   "execution_count": 17,
   "id": "0c0b4e98",
   "metadata": {},
   "outputs": [
    {
     "name": "stdout",
     "output_type": "stream",
     "text": [
      "Model: \"sequential_3\"\n",
      "_________________________________________________________________\n",
      "Layer (type)                 Output Shape              Param #   \n",
      "=================================================================\n",
      "embedding_3 (Embedding)      (None, 41, 32)            320000    \n",
      "_________________________________________________________________\n",
      "bidirectional (Bidirectional (None, 32)                6272      \n",
      "_________________________________________________________________\n",
      "dropout_2 (Dropout)          (None, 32)                0         \n",
      "_________________________________________________________________\n",
      "dense_6 (Dense)              (None, 8)                 264       \n",
      "_________________________________________________________________\n",
      "dense_7 (Dense)              (None, 1)                 9         \n",
      "=================================================================\n",
      "Total params: 326,545\n",
      "Trainable params: 326,545\n",
      "Non-trainable params: 0\n",
      "_________________________________________________________________\n"
     ]
    }
   ],
   "source": [
    "word_vector_dim_Bi = 32  # 워드 벡터의 차원 수 (변경 가능한 하이퍼파라미터)\n",
    "\n",
    "model4 = tf.keras.Sequential()\n",
    "model4.add(tf.keras.layers.Embedding(vocab_size, word_vector_dim_Bi, input_length=maxlen))   # trainable을 True로 주면 Fine-tuning\n",
    "model4.add(tf.keras.layers.Bidirectional(LSTM(16)))\n",
    "model4.add(tf.keras.layers.Dropout(0.2))\n",
    "model4.add(tf.keras.layers.Dense(8, activation='sigmoid')) \n",
    "model4.add(tf.keras.layers.Dense(1, activation='sigmoid')) \n",
    "\n",
    "model4.summary()"
   ]
  },
  {
   "cell_type": "markdown",
   "id": "2f9a4e9b",
   "metadata": {},
   "source": [
    "(5) Attention"
   ]
  },
  {
   "cell_type": "code",
   "execution_count": 18,
   "id": "a52811e6",
   "metadata": {},
   "outputs": [],
   "source": [
    "# word_vector_dim_A = 32  # 워드 벡터의 차원 수 (변경 가능한 하이퍼파라미터)\n",
    "\n",
    "# model4 = tf.keras.Sequential()\n",
    "# model4.add(tf.keras.layers.Embedding(vocab_size, word_vector_dim_A, input_length=maxlen))   # trainable을 True로 주면 Fine-tuning\n",
    "# model4.add(tf.keras.layers.Attention(LSTM(16)))\n",
    "# model4.add(tf.keras.layers.Dropout(0.2))\n",
    "# model4.add(tf.keras.layers.Dense(8, activation='sigmoid')) \n",
    "# model4.add(tf.keras.layers.Dense(1, activation='sigmoid')) \n",
    "\n",
    "# model4.summary()"
   ]
  },
  {
   "cell_type": "code",
   "execution_count": 19,
   "id": "dad2fc81",
   "metadata": {},
   "outputs": [
    {
     "name": "stdout",
     "output_type": "stream",
     "text": [
      "(136182, 41)\n",
      "(136182,)\n"
     ]
    }
   ],
   "source": [
    "# validation set 10000건 분리\n",
    "x_val = X_train[:10000]   \n",
    "y_val = y_train[:10000]\n",
    "\n",
    "# validation set을 제외한 나머지 15000건\n",
    "partial_x_train = X_train[10000:]  \n",
    "partial_y_train = y_train[10000:]\n",
    "\n",
    "print(partial_x_train.shape)\n",
    "print(partial_y_train.shape)"
   ]
  },
  {
   "cell_type": "markdown",
   "id": "2fcc9e97",
   "metadata": {},
   "source": [
    "### (5) 모델 훈련개시"
   ]
  },
  {
   "cell_type": "code",
   "execution_count": 25,
   "id": "4ebafd5d",
   "metadata": {},
   "outputs": [
    {
     "name": "stdout",
     "output_type": "stream",
     "text": [
      "Epoch 1/7\n",
      "266/266 [==============================] - 5s 10ms/step - loss: 0.2667 - accuracy: 0.9017 - val_loss: 0.3554 - val_accuracy: 0.8540\n",
      "Epoch 2/7\n",
      "266/266 [==============================] - 2s 8ms/step - loss: 0.2524 - accuracy: 0.9081 - val_loss: 0.3609 - val_accuracy: 0.8545\n",
      "Epoch 3/7\n",
      "266/266 [==============================] - 2s 7ms/step - loss: 0.2400 - accuracy: 0.9136 - val_loss: 0.3835 - val_accuracy: 0.8513\n",
      "Epoch 4/7\n",
      "266/266 [==============================] - 2s 7ms/step - loss: 0.2284 - accuracy: 0.9190 - val_loss: 0.3775 - val_accuracy: 0.8518\n",
      "Epoch 5/7\n",
      "266/266 [==============================] - 2s 7ms/step - loss: 0.2181 - accuracy: 0.9232 - val_loss: 0.3886 - val_accuracy: 0.8478\n",
      "Epoch 6/7\n",
      "266/266 [==============================] - 2s 7ms/step - loss: 0.2086 - accuracy: 0.9274 - val_loss: 0.3985 - val_accuracy: 0.8478\n",
      "Epoch 7/7\n",
      "266/266 [==============================] - 2s 8ms/step - loss: 0.1982 - accuracy: 0.9321 - val_loss: 0.4037 - val_accuracy: 0.8478\n"
     ]
    }
   ],
   "source": [
    "# 모델 바꿔가면서 실험 가능\n",
    "\n",
    "model4.compile(optimizer='adam',\n",
    "              loss='binary_crossentropy',\n",
    "              metrics=['accuracy'])\n",
    "              \n",
    "epochs=7  # overfitting 방지를 위해 epoch낮춤 \n",
    "\n",
    "history = model4.fit(partial_x_train,\n",
    "                    partial_y_train,\n",
    "                    epochs=epochs,\n",
    "                    batch_size=512,\n",
    "                    validation_data=(x_val, y_val),\n",
    "                    verbose=1)"
   ]
  },
  {
   "cell_type": "code",
   "execution_count": null,
   "id": "291d6388",
   "metadata": {},
   "outputs": [],
   "source": []
  },
  {
   "cell_type": "markdown",
   "id": "7e18510c",
   "metadata": {},
   "source": [
    "### (6) Loss, Accuracy 그래프 시각화"
   ]
  },
  {
   "cell_type": "code",
   "execution_count": 26,
   "id": "32dac9a1",
   "metadata": {},
   "outputs": [
    {
     "name": "stdout",
     "output_type": "stream",
     "text": [
      "1537/1537 [==============================] - 5s 3ms/step - loss: 0.4117 - accuracy: 0.8443\n",
      "[0.41172361373901367, 0.8443354964256287]\n"
     ]
    }
   ],
   "source": [
    "# 모델 바꿔가면서 실험 가능\n",
    "results = model4.evaluate(X_test,  y_test, verbose=1)\n",
    "\n",
    "print(results)"
   ]
  },
  {
   "cell_type": "code",
   "execution_count": 27,
   "id": "b435422c",
   "metadata": {},
   "outputs": [
    {
     "name": "stdout",
     "output_type": "stream",
     "text": [
      "dict_keys(['loss', 'accuracy', 'val_loss', 'val_accuracy'])\n"
     ]
    }
   ],
   "source": [
    "history_dict = history.history\n",
    "print(history_dict.keys()) # epoch에 따른 그래프를 그려볼 수 있는 항목들"
   ]
  },
  {
   "cell_type": "code",
   "execution_count": 28,
   "id": "10987188",
   "metadata": {},
   "outputs": [
    {
     "data": {
      "image/png": "[encoded data removed]",
      "text/plain": [
       "<Figure size 432x288 with 1 Axes>"
      ]
     },
     "metadata": {
      "needs_background": "light"
     },
     "output_type": "display_data"
    }
   ],
   "source": [
    "import matplotlib.pyplot as plt\n",
    "\n",
    "acc = history_dict['accuracy']\n",
    "val_acc = history_dict['val_accuracy']\n",
    "loss = history_dict['loss']\n",
    "val_loss = history_dict['val_loss']\n",
    "\n",
    "epochs = range(1, len(acc) + 1)\n",
    "\n",
    "# \"bo\"는 \"파란색 점\"\n",
    "plt.plot(epochs, loss, 'bo', label='Training loss')\n",
    "# b는 \"파란 실선\"\n",
    "plt.plot(epochs, val_loss, 'b', label='Validation loss')\n",
    "plt.title('Training and validation loss')\n",
    "plt.xlabel('Epochs')\n",
    "plt.ylabel('Loss')\n",
    "plt.legend()\n",
    "\n",
    "plt.show()"
   ]
  },
  {
   "cell_type": "code",
   "execution_count": 30,
   "id": "626dc0d3",
   "metadata": {},
   "outputs": [
    {
     "data": {
      "image/png": "[encoded data removed]",
      "text/plain": [
       "<Figure size 432x288 with 1 Axes>"
      ]
     },
     "metadata": {
      "needs_background": "light"
     },
     "output_type": "display_data"
    }
   ],
   "source": [
    "plt.clf()   # 그림초기화\n",
    "plt.plot(epochs, acc, 'bo', label='Training acc')\n",
    "plt.plot(epochs, val_acc, 'b', label='Validation acc')\n",
    "plt.title('Training and validation accuracy')\n",
    "plt.xlabel('Epochs')\n",
    "plt.ylabel('Accuracy')\n",
    "plt.legend()\n",
    "\n",
    "plt.show()"
   ]
  },
  {
   "cell_type": "code",
   "execution_count": null,
   "id": "e8eb1fcb",
   "metadata": {},
   "outputs": [],
   "source": []
  },
  {
   "cell_type": "markdown",
   "id": "bd4a3fb5",
   "metadata": {},
   "source": [
    "### (7)학습된 Embedding 레이어 분석"
   ]
  },
  {
   "cell_type": "code",
   "execution_count": 31,
   "id": "e853f3c5",
   "metadata": {},
   "outputs": [
    {
     "name": "stdout",
     "output_type": "stream",
     "text": [
      "(10000, 32)\n"
     ]
    }
   ],
   "source": [
    "embedding_layer = model4.layers[0]\n",
    "weights = embedding_layer.get_weights()[0]\n",
    "print(weights.shape) "
   ]
  },
  {
   "cell_type": "code",
   "execution_count": 34,
   "id": "a24b9ad0",
   "metadata": {},
   "outputs": [],
   "source": [
    "# 학습한 Embedding 파라미터를 파일에 써서 저장합니다. \n",
    "word2vec_file_path = os.getenv('HOME')+'/aiffel/sentiment_classification/data/word2vec.txt'\n",
    "f = open(word2vec_file_path, 'w')\n",
    "f.write('{} {}\\n'.format(vocab_size-4, word_vector_dim_Bi))  # 몇개의 벡터를 얼마 사이즈로 기재할지 타이틀을 씁니다.\n",
    "\n",
    "# 단어 개수(에서 특수문자 4개는 제외하고)만큼의 워드 벡터를 파일에 기록합니다. \n",
    "vectors = model4.get_weights()[0]\n",
    "for i in range(4,vocab_size):\n",
    "    f.write('{} {}\\n'.format(index_to_word[i], ' '.join(map(str, list(vectors[i, :])))))\n",
    "f.close()"
   ]
  },
  {
   "cell_type": "code",
   "execution_count": 35,
   "id": "389f6de7",
   "metadata": {},
   "outputs": [
    {
     "data": {
      "text/plain": [
       "[('매우', 0.8357694745063782),\n",
       " ('공감', 0.8338692784309387),\n",
       " ('시대', 0.8090060949325562),\n",
       " ('긴장감', 0.8052788972854614),\n",
       " ('집중', 0.7962589263916016),\n",
       " ('매력', 0.7949312925338745),\n",
       " ('완전', 0.7911649942398071),\n",
       " ('제미', 0.7845884561538696),\n",
       " ('몰입', 0.7674726247787476),\n",
       " ('상태', 0.7565873861312866)]"
      ]
     },
     "execution_count": 35,
     "metadata": {},
     "output_type": "execute_result"
    }
   ],
   "source": [
    "from gensim.models.keyedvectors import Word2VecKeyedVectors\n",
    "\n",
    "word_vectors = Word2VecKeyedVectors.load_word2vec_format(word2vec_file_path, binary=False)\n",
    "word_vectors.similar_by_word(\"재미\")"
   ]
  },
  {
   "cell_type": "code",
   "execution_count": null,
   "id": "56dde5dd",
   "metadata": {},
   "outputs": [],
   "source": []
  },
  {
   "cell_type": "markdown",
   "id": "09374a84",
   "metadata": {},
   "source": [
    "### (8) 한국어 Word2Vec 임베딩 활용하여 성능개선"
   ]
  },
  {
   "cell_type": "code",
   "execution_count": 36,
   "id": "aaf32a09",
   "metadata": {},
   "outputs": [
    {
     "data": {
      "text/plain": [
       "'/aiffel/aiffel/workplace/Aiffel_Quest/QUEST08'"
      ]
     },
     "execution_count": 36,
     "metadata": {},
     "output_type": "execute_result"
    }
   ],
   "source": [
    "os.getcwd()"
   ]
  },
  {
   "cell_type": "code",
   "execution_count": 37,
   "id": "67e21d27",
   "metadata": {},
   "outputs": [
    {
     "data": {
      "text/plain": [
       "(100,)"
      ]
     },
     "execution_count": 37,
     "metadata": {},
     "output_type": "execute_result"
    }
   ],
   "source": [
    "# 예시 코드\n",
    "from gensim.models.keyedvectors import Word2VecKeyedVectors\n",
    "\n",
    "word2vec_file_path = os.getenv('HOME')+'/data/word2vec_ko.model'\n",
    "word_vectors = Word2VecKeyedVectors.load(word2vec_file_path)\n",
    "vector = word_vectors.wv['재미']\n",
    "vector.shape"
   ]
  },
  {
   "cell_type": "code",
   "execution_count": 38,
   "id": "a2bc2667",
   "metadata": {},
   "outputs": [
    {
     "data": {
      "text/plain": [
       "(302960, 100)"
      ]
     },
     "execution_count": 38,
     "metadata": {},
     "output_type": "execute_result"
    }
   ],
   "source": [
    "word_vectors.wv.vectors.shape"
   ]
  },
  {
   "cell_type": "code",
   "execution_count": 40,
   "id": "c192257a",
   "metadata": {},
   "outputs": [
    {
     "name": "stderr",
     "output_type": "stream",
     "text": [
      "/tmp/ipykernel_387/2104953121.py:7: FutureWarning: elementwise comparison failed; returning scalar instead, but in the future will perform elementwise comparison\n",
      "  if index_to_word[i] in word_vectors.wv.vectors:\n"
     ]
    }
   ],
   "source": [
    "vocab_size = len(word_to_index)    # 어휘 사전의 크기입니다(10,000개의 단어)\n",
    "word_vector_dim_Bi = 100  # 워드 벡터의 차원수\n",
    "embedding_matrix = np.random.rand(vocab_size, word_vector_dim_Bi)\n",
    "\n",
    "# embedding_matrix에 Word2Vec 워드 벡터를 단어 하나씩마다 차례차례 카피한다.\n",
    "for i in range(4,vocab_size):\n",
    "    if index_to_word[i] in word_vectors.wv.vectors:\n",
    "        embedding_matrix[i] = word_vectors.wv.vectors[index_to_word[i]]"
   ]
  },
  {
   "cell_type": "code",
   "execution_count": 41,
   "id": "1dc6dcbb",
   "metadata": {},
   "outputs": [
    {
     "data": {
      "text/plain": [
       "(10000, 100)"
      ]
     },
     "execution_count": 41,
     "metadata": {},
     "output_type": "execute_result"
    }
   ],
   "source": [
    "embedding_matrix.shape"
   ]
  },
  {
   "cell_type": "code",
   "execution_count": 42,
   "id": "30e93c1e",
   "metadata": {},
   "outputs": [
    {
     "name": "stdout",
     "output_type": "stream",
     "text": [
      "Model: \"sequential_4\"\n",
      "_________________________________________________________________\n",
      "Layer (type)                 Output Shape              Param #   \n",
      "=================================================================\n",
      "embedding_4 (Embedding)      (None, 41, 100)           1000000   \n",
      "_________________________________________________________________\n",
      "global_max_pooling1d_1 (Glob (None, 100)               0         \n",
      "_________________________________________________________________\n",
      "dense_8 (Dense)              (None, 8)                 808       \n",
      "_________________________________________________________________\n",
      "dense_9 (Dense)              (None, 1)                 9         \n",
      "=================================================================\n",
      "Total params: 1,000,817\n",
      "Trainable params: 1,000,817\n",
      "Non-trainable params: 0\n",
      "_________________________________________________________________\n"
     ]
    }
   ],
   "source": [
    "from tensorflow.keras.initializers import Constant\n",
    "\n",
    "vocab_size =  len(word_to_index)   # 어휘 사전의 크기입니다(10,000개의 단어)\n",
    "word_vector_dim = 100  # 워드 벡터의 차원 수 \n",
    "\n",
    "# 모델 구성\n",
    "model = tf.keras.Sequential()\n",
    "model.add(tf.keras.layers.Embedding(vocab_size, \n",
    "                                 word_vector_dim, \n",
    "                                 embeddings_initializer=Constant(embedding_matrix),  # 카피한 임베딩을 여기서 활용\n",
    "                                 input_length=maxlen, \n",
    "                                 trainable=True))   # trainable을 True로 주면 Fine-tuning\n",
    "model.add(tf.keras.layers.GlobalMaxPooling1D())\n",
    "model.add(tf.keras.layers.Dense(8, activation='relu'))\n",
    "model.add(tf.keras.layers.Dense(1, activation='sigmoid'))  # 최종 출력은 긍정/부정을 나타내는 1dim 입니다.\n",
    "\n",
    "model.summary()"
   ]
  },
  {
   "cell_type": "code",
   "execution_count": 43,
   "id": "49e376c1",
   "metadata": {
    "scrolled": true
   },
   "outputs": [
    {
     "name": "stdout",
     "output_type": "stream",
     "text": [
      "Epoch 1/50\n",
      "266/266 [==============================] - 2s 4ms/step - loss: 0.6142 - accuracy: 0.7274 - val_loss: 0.4861 - val_accuracy: 0.8095\n",
      "Epoch 2/50\n",
      "266/266 [==============================] - 1s 4ms/step - loss: 0.4021 - accuracy: 0.8310 - val_loss: 0.3651 - val_accuracy: 0.8399\n",
      "Epoch 3/50\n",
      "266/266 [==============================] - 1s 4ms/step - loss: 0.3360 - accuracy: 0.8567 - val_loss: 0.3434 - val_accuracy: 0.8480\n",
      "Epoch 4/50\n",
      "266/266 [==============================] - 1s 4ms/step - loss: 0.3070 - accuracy: 0.8708 - val_loss: 0.3374 - val_accuracy: 0.8515\n",
      "Epoch 5/50\n",
      "266/266 [==============================] - 1s 4ms/step - loss: 0.2857 - accuracy: 0.8810 - val_loss: 0.3336 - val_accuracy: 0.8526\n",
      "Epoch 6/50\n",
      "266/266 [==============================] - 1s 4ms/step - loss: 0.2680 - accuracy: 0.8903 - val_loss: 0.3348 - val_accuracy: 0.8539\n",
      "Epoch 7/50\n",
      "266/266 [==============================] - 1s 4ms/step - loss: 0.2515 - accuracy: 0.8985 - val_loss: 0.3374 - val_accuracy: 0.8533\n",
      "Epoch 8/50\n",
      "266/266 [==============================] - 1s 4ms/step - loss: 0.2364 - accuracy: 0.9055 - val_loss: 0.3429 - val_accuracy: 0.8515\n",
      "Epoch 9/50\n",
      "266/266 [==============================] - 1s 4ms/step - loss: 0.2217 - accuracy: 0.9127 - val_loss: 0.3498 - val_accuracy: 0.8523\n",
      "Epoch 10/50\n",
      "266/266 [==============================] - 1s 4ms/step - loss: 0.2076 - accuracy: 0.9201 - val_loss: 0.3585 - val_accuracy: 0.8492\n",
      "Epoch 11/50\n",
      "266/266 [==============================] - 1s 4ms/step - loss: 0.1936 - accuracy: 0.9270 - val_loss: 0.3663 - val_accuracy: 0.8486\n",
      "Epoch 12/50\n",
      "266/266 [==============================] - 1s 4ms/step - loss: 0.1799 - accuracy: 0.9339 - val_loss: 0.3769 - val_accuracy: 0.8468\n",
      "Epoch 13/50\n",
      "266/266 [==============================] - 1s 4ms/step - loss: 0.1662 - accuracy: 0.9402 - val_loss: 0.3872 - val_accuracy: 0.8460\n",
      "Epoch 14/50\n",
      "266/266 [==============================] - 1s 4ms/step - loss: 0.1531 - accuracy: 0.9462 - val_loss: 0.3993 - val_accuracy: 0.8451\n",
      "Epoch 15/50\n",
      "266/266 [==============================] - 1s 4ms/step - loss: 0.1408 - accuracy: 0.9524 - val_loss: 0.4129 - val_accuracy: 0.8457\n",
      "Epoch 16/50\n",
      "266/266 [==============================] - 1s 4ms/step - loss: 0.1286 - accuracy: 0.9578 - val_loss: 0.4301 - val_accuracy: 0.8406\n",
      "Epoch 17/50\n",
      "266/266 [==============================] - 1s 4ms/step - loss: 0.1170 - accuracy: 0.9627 - val_loss: 0.4440 - val_accuracy: 0.8403\n",
      "Epoch 18/50\n",
      "266/266 [==============================] - 1s 4ms/step - loss: 0.1060 - accuracy: 0.9669 - val_loss: 0.4620 - val_accuracy: 0.8377\n",
      "Epoch 19/50\n",
      "266/266 [==============================] - 1s 4ms/step - loss: 0.0962 - accuracy: 0.9711 - val_loss: 0.4810 - val_accuracy: 0.8387\n",
      "Epoch 20/50\n",
      "266/266 [==============================] - 1s 4ms/step - loss: 0.0869 - accuracy: 0.9749 - val_loss: 0.4990 - val_accuracy: 0.8366\n",
      "Epoch 21/50\n",
      "266/266 [==============================] - 1s 4ms/step - loss: 0.0787 - accuracy: 0.9777 - val_loss: 0.5189 - val_accuracy: 0.8351\n",
      "Epoch 22/50\n",
      "266/266 [==============================] - 1s 4ms/step - loss: 0.0706 - accuracy: 0.9803 - val_loss: 0.5402 - val_accuracy: 0.8334\n",
      "Epoch 23/50\n",
      "266/266 [==============================] - 1s 4ms/step - loss: 0.0635 - accuracy: 0.9827 - val_loss: 0.5615 - val_accuracy: 0.8329\n",
      "Epoch 24/50\n",
      "266/266 [==============================] - 1s 4ms/step - loss: 0.0571 - accuracy: 0.9851 - val_loss: 0.5867 - val_accuracy: 0.8314\n",
      "Epoch 25/50\n",
      "266/266 [==============================] - 1s 4ms/step - loss: 0.0513 - accuracy: 0.9869 - val_loss: 0.6094 - val_accuracy: 0.8302\n",
      "Epoch 26/50\n",
      "266/266 [==============================] - 1s 4ms/step - loss: 0.0464 - accuracy: 0.9883 - val_loss: 0.6273 - val_accuracy: 0.8289\n",
      "Epoch 27/50\n",
      "266/266 [==============================] - 1s 4ms/step - loss: 0.0415 - accuracy: 0.9896 - val_loss: 0.6492 - val_accuracy: 0.8286\n",
      "Epoch 28/50\n",
      "266/266 [==============================] - 1s 4ms/step - loss: 0.0373 - accuracy: 0.9908 - val_loss: 0.6744 - val_accuracy: 0.8292\n",
      "Epoch 29/50\n",
      "266/266 [==============================] - 1s 4ms/step - loss: 0.0336 - accuracy: 0.9920 - val_loss: 0.6990 - val_accuracy: 0.8270\n",
      "Epoch 30/50\n",
      "266/266 [==============================] - 1s 4ms/step - loss: 0.0301 - accuracy: 0.9926 - val_loss: 0.7200 - val_accuracy: 0.8258\n",
      "Epoch 31/50\n",
      "266/266 [==============================] - 1s 4ms/step - loss: 0.0272 - accuracy: 0.9935 - val_loss: 0.7445 - val_accuracy: 0.8279\n",
      "Epoch 32/50\n",
      "266/266 [==============================] - 1s 4ms/step - loss: 0.0249 - accuracy: 0.9940 - val_loss: 0.7653 - val_accuracy: 0.8246\n",
      "Epoch 33/50\n",
      "266/266 [==============================] - 1s 4ms/step - loss: 0.0225 - accuracy: 0.9944 - val_loss: 0.7887 - val_accuracy: 0.8250\n",
      "Epoch 34/50\n",
      "266/266 [==============================] - 1s 4ms/step - loss: 0.0203 - accuracy: 0.9950 - val_loss: 0.8182 - val_accuracy: 0.8243\n",
      "Epoch 35/50\n",
      "266/266 [==============================] - 1s 4ms/step - loss: 0.0188 - accuracy: 0.9954 - val_loss: 0.8398 - val_accuracy: 0.8240\n",
      "Epoch 36/50\n",
      "266/266 [==============================] - 1s 4ms/step - loss: 0.0173 - accuracy: 0.9954 - val_loss: 0.8595 - val_accuracy: 0.8225\n",
      "Epoch 37/50\n",
      "266/266 [==============================] - 1s 4ms/step - loss: 0.0161 - accuracy: 0.9956 - val_loss: 0.8773 - val_accuracy: 0.8236\n",
      "Epoch 38/50\n",
      "266/266 [==============================] - 1s 4ms/step - loss: 0.0149 - accuracy: 0.9960 - val_loss: 0.9093 - val_accuracy: 0.8226\n",
      "Epoch 39/50\n",
      "266/266 [==============================] - 1s 4ms/step - loss: 0.0138 - accuracy: 0.9962 - val_loss: 0.9180 - val_accuracy: 0.8207\n",
      "Epoch 40/50\n",
      "266/266 [==============================] - 1s 4ms/step - loss: 0.0127 - accuracy: 0.9964 - val_loss: 0.9388 - val_accuracy: 0.8235\n",
      "Epoch 41/50\n",
      "266/266 [==============================] - 1s 4ms/step - loss: 0.0120 - accuracy: 0.9963 - val_loss: 0.9540 - val_accuracy: 0.8239\n",
      "Epoch 42/50\n",
      "266/266 [==============================] - 1s 4ms/step - loss: 0.0111 - accuracy: 0.9964 - val_loss: 0.9920 - val_accuracy: 0.8220\n",
      "Epoch 43/50\n",
      "266/266 [==============================] - 1s 4ms/step - loss: 0.0108 - accuracy: 0.9966 - val_loss: 1.0040 - val_accuracy: 0.8197\n",
      "Epoch 44/50\n",
      "266/266 [==============================] - 1s 4ms/step - loss: 0.0103 - accuracy: 0.9965 - val_loss: 1.0262 - val_accuracy: 0.8229\n",
      "Epoch 45/50\n",
      "266/266 [==============================] - 1s 4ms/step - loss: 0.0099 - accuracy: 0.9967 - val_loss: 1.0475 - val_accuracy: 0.8218\n",
      "Epoch 46/50\n",
      "266/266 [==============================] - 1s 4ms/step - loss: 0.0093 - accuracy: 0.9967 - val_loss: 1.0514 - val_accuracy: 0.8200\n",
      "Epoch 47/50\n",
      "266/266 [==============================] - 1s 4ms/step - loss: 0.0088 - accuracy: 0.9969 - val_loss: 1.0738 - val_accuracy: 0.8204\n",
      "Epoch 48/50\n",
      "266/266 [==============================] - 1s 4ms/step - loss: 0.0086 - accuracy: 0.9968 - val_loss: 1.0911 - val_accuracy: 0.8201\n",
      "Epoch 49/50\n",
      "266/266 [==============================] - 1s 4ms/step - loss: 0.0084 - accuracy: 0.9967 - val_loss: 1.1257 - val_accuracy: 0.8191\n",
      "Epoch 50/50\n",
      "266/266 [==============================] - 1s 4ms/step - loss: 0.0081 - accuracy: 0.9969 - val_loss: 1.1198 - val_accuracy: 0.8195\n"
     ]
    }
   ],
   "source": [
    "# 학습의 진행\n",
    "model.compile(optimizer='adam',\n",
    "              loss='binary_crossentropy',\n",
    "              metrics=['accuracy'])\n",
    "              \n",
    "epochs=50  # 몇 epoch를 훈련하면 좋을지 결과를 보면서 바꾸어 봅시다. \n",
    "\n",
    "history = model.fit(partial_x_train,\n",
    "                    partial_y_train,\n",
    "                    epochs=epochs,\n",
    "                    batch_size=512,\n",
    "                    validation_data=(x_val, y_val),\n",
    "                    verbose=1)\n",
    "\n",
    "\n",
    "# 0.9969나옴"
   ]
  },
  {
   "cell_type": "code",
   "execution_count": 44,
   "id": "6d1cee45",
   "metadata": {},
   "outputs": [
    {
     "name": "stdout",
     "output_type": "stream",
     "text": [
      "1537/1537 [==============================] - 2s 2ms/step - loss: 1.1272 - accuracy: 0.8171\n",
      "[1.1271566152572632, 0.8171369433403015]\n"
     ]
    }
   ],
   "source": [
    "# 테스트셋을 통한 모델 평가\n",
    "results = model.evaluate(X_test, y_test, verbose=1)\n",
    "\n",
    "print(results)"
   ]
  },
  {
   "cell_type": "code",
   "execution_count": null,
   "id": "8ecf1b31",
   "metadata": {},
   "outputs": [],
   "source": []
  },
  {
   "cell_type": "code",
   "execution_count": null,
   "id": "704667cf",
   "metadata": {},
   "outputs": [],
   "source": []
  },
  {
   "cell_type": "code",
   "execution_count": null,
   "id": "3b270b09",
   "metadata": {},
   "outputs": [],
   "source": []
  },
  {
   "cell_type": "code",
   "execution_count": null,
   "id": "f0c04c48",
   "metadata": {},
   "outputs": [],
   "source": []
  },
  {
   "cell_type": "code",
   "execution_count": null,
   "id": "9b30fa5f",
   "metadata": {},
   "outputs": [],
   "source": []
  },
  {
   "cell_type": "code",
   "execution_count": null,
   "id": "ebc08def",
   "metadata": {},
   "outputs": [],
   "source": []
  }
 ],
 "metadata": {
  "kernelspec": {
   "display_name": "Python 3 (ipykernel)",
   "language": "python",
   "name": "python3"
  },
  "language_info": {
   "codemirror_mode": {
    "name": "ipython",
    "version": 3
   },
   "file_extension": ".py",
   "mimetype": "text/x-python",
   "name": "python",
   "nbconvert_exporter": "python",
   "pygments_lexer": "ipython3",
   "version": "3.9.7"
  }
 },
 "nbformat": 4,
 "nbformat_minor": 5
}
