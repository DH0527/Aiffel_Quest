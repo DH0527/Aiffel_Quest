{
 "cells": [
  {
   "cell_type": "code",
   "execution_count": 1,
   "id": "2cf9793c",
   "metadata": {},
   "outputs": [],
   "source": [
    "# (1) 데이터 가져오기\n",
    "# sklearn.datasets의 load_diabetes에서 데이터를 가져와주세요.\n",
    "from sklearn.datasets import load_diabetes\n",
    "from sklearn.model_selection import train_test_split\n",
    "import pandas as pd\n",
    "import numpy as np\n",
    "import matplotlib.pyplot as plt"
   ]
  },
  {
   "cell_type": "code",
   "execution_count": 2,
   "id": "ba97c523",
   "metadata": {},
   "outputs": [],
   "source": [
    "diabetes = load_diabetes()\n",
    "feature_names = diabetes['feature_names']"
   ]
  },
  {
   "cell_type": "code",
   "execution_count": 3,
   "id": "a9fb0658",
   "metadata": {},
   "outputs": [],
   "source": [
    "# (2) 모델에 입력할 데이터 X 준비하기\n",
    "# df_X에 있는 값들을 numpy array로 변환해서 저장해주세요.\n",
    "# (3) 모델에 예측할 데이터 y 준비하기\n",
    "# df_y에 있는 값들을 numpy array로 변환해서 저장해주세요.\n",
    "\n",
    "df_X = diabetes['data']\n",
    "df_y = diabetes['target']"
   ]
  },
  {
   "cell_type": "code",
   "execution_count": 4,
   "id": "4bd5ee8f",
   "metadata": {},
   "outputs": [
    {
     "data": {
      "text/html": [
       "<div>\n",
       "<style scoped>\n",
       "    .dataframe tbody tr th:only-of-type {\n",
       "        vertical-align: middle;\n",
       "    }\n",
       "\n",
       "    .dataframe tbody tr th {\n",
       "        vertical-align: top;\n",
       "    }\n",
       "\n",
       "    .dataframe thead th {\n",
       "        text-align: right;\n",
       "    }\n",
       "</style>\n",
       "<table border=\"1\" class=\"dataframe\">\n",
       "  <thead>\n",
       "    <tr style=\"text-align: right;\">\n",
       "      <th></th>\n",
       "      <th>age</th>\n",
       "      <th>sex</th>\n",
       "      <th>bmi</th>\n",
       "      <th>bp</th>\n",
       "      <th>s1</th>\n",
       "      <th>s2</th>\n",
       "      <th>s3</th>\n",
       "      <th>s4</th>\n",
       "      <th>s5</th>\n",
       "      <th>s6</th>\n",
       "    </tr>\n",
       "  </thead>\n",
       "  <tbody>\n",
       "    <tr>\n",
       "      <th>437</th>\n",
       "      <td>0.041708</td>\n",
       "      <td>0.050680</td>\n",
       "      <td>0.019662</td>\n",
       "      <td>0.059744</td>\n",
       "      <td>-0.005697</td>\n",
       "      <td>-0.002566</td>\n",
       "      <td>-0.028674</td>\n",
       "      <td>-0.002592</td>\n",
       "      <td>0.031193</td>\n",
       "      <td>0.007207</td>\n",
       "    </tr>\n",
       "    <tr>\n",
       "      <th>438</th>\n",
       "      <td>-0.005515</td>\n",
       "      <td>0.050680</td>\n",
       "      <td>-0.015906</td>\n",
       "      <td>-0.067642</td>\n",
       "      <td>0.049341</td>\n",
       "      <td>0.079165</td>\n",
       "      <td>-0.028674</td>\n",
       "      <td>0.034309</td>\n",
       "      <td>-0.018118</td>\n",
       "      <td>0.044485</td>\n",
       "    </tr>\n",
       "    <tr>\n",
       "      <th>439</th>\n",
       "      <td>0.041708</td>\n",
       "      <td>0.050680</td>\n",
       "      <td>-0.015906</td>\n",
       "      <td>0.017282</td>\n",
       "      <td>-0.037344</td>\n",
       "      <td>-0.013840</td>\n",
       "      <td>-0.024993</td>\n",
       "      <td>-0.011080</td>\n",
       "      <td>-0.046879</td>\n",
       "      <td>0.015491</td>\n",
       "    </tr>\n",
       "    <tr>\n",
       "      <th>440</th>\n",
       "      <td>-0.045472</td>\n",
       "      <td>-0.044642</td>\n",
       "      <td>0.039062</td>\n",
       "      <td>0.001215</td>\n",
       "      <td>0.016318</td>\n",
       "      <td>0.015283</td>\n",
       "      <td>-0.028674</td>\n",
       "      <td>0.026560</td>\n",
       "      <td>0.044528</td>\n",
       "      <td>-0.025930</td>\n",
       "    </tr>\n",
       "    <tr>\n",
       "      <th>441</th>\n",
       "      <td>-0.045472</td>\n",
       "      <td>-0.044642</td>\n",
       "      <td>-0.073030</td>\n",
       "      <td>-0.081414</td>\n",
       "      <td>0.083740</td>\n",
       "      <td>0.027809</td>\n",
       "      <td>0.173816</td>\n",
       "      <td>-0.039493</td>\n",
       "      <td>-0.004220</td>\n",
       "      <td>0.003064</td>\n",
       "    </tr>\n",
       "  </tbody>\n",
       "</table>\n",
       "</div>"
      ],
      "text/plain": [
       "          age       sex       bmi        bp        s1        s2        s3  \\\n",
       "437  0.041708  0.050680  0.019662  0.059744 -0.005697 -0.002566 -0.028674   \n",
       "438 -0.005515  0.050680 -0.015906 -0.067642  0.049341  0.079165 -0.028674   \n",
       "439  0.041708  0.050680 -0.015906  0.017282 -0.037344 -0.013840 -0.024993   \n",
       "440 -0.045472 -0.044642  0.039062  0.001215  0.016318  0.015283 -0.028674   \n",
       "441 -0.045472 -0.044642 -0.073030 -0.081414  0.083740  0.027809  0.173816   \n",
       "\n",
       "           s4        s5        s6  \n",
       "437 -0.002592  0.031193  0.007207  \n",
       "438  0.034309 -0.018118  0.044485  \n",
       "439 -0.011080 -0.046879  0.015491  \n",
       "440  0.026560  0.044528 -0.025930  \n",
       "441 -0.039493 -0.004220  0.003064  "
      ]
     },
     "execution_count": 4,
     "metadata": {},
     "output_type": "execute_result"
    }
   ],
   "source": [
    "df = pd.DataFrame(df_X, columns=feature_names)\n",
    "df.tail()"
   ]
  },
  {
   "cell_type": "code",
   "execution_count": 5,
   "id": "6aad193b",
   "metadata": {},
   "outputs": [
    {
     "name": "stdout",
     "output_type": "stream",
     "text": [
      "<class 'numpy.ndarray'>\n",
      "<class 'numpy.ndarray'>\n"
     ]
    }
   ],
   "source": [
    "print(type(df_X)) # <class 'numpy.ndarray'>\n",
    "print(type(df_y))  "
   ]
  },
  {
   "cell_type": "code",
   "execution_count": 6,
   "id": "1ca2532d",
   "metadata": {},
   "outputs": [
    {
     "name": "stdout",
     "output_type": "stream",
     "text": [
      "[[ 0.03807591  0.05068012  0.06169621 ... -0.00259226  0.01990842\n",
      "  -0.01764613]\n",
      " [-0.00188202 -0.04464164 -0.05147406 ... -0.03949338 -0.06832974\n",
      "  -0.09220405]\n",
      " [ 0.08529891  0.05068012  0.04445121 ... -0.00259226  0.00286377\n",
      "  -0.02593034]\n",
      " ...\n",
      " [ 0.04170844  0.05068012 -0.01590626 ... -0.01107952 -0.04687948\n",
      "   0.01549073]\n",
      " [-0.04547248 -0.04464164  0.03906215 ...  0.02655962  0.04452837\n",
      "  -0.02593034]\n",
      " [-0.04547248 -0.04464164 -0.0730303  ... -0.03949338 -0.00421986\n",
      "   0.00306441]]\n",
      "Index(['age', 'sex', 'bmi', 'bp', 's1', 's2', 's3', 's4', 's5', 's6'], dtype='object')\n"
     ]
    }
   ],
   "source": [
    "X = df[['age', 'sex', 'bmi', 'bp', 's1', 's2', 's3', 's4', 's5', 's6' ]].values\n",
    "# y = df['target'].values\n",
    "print(df.values)\n",
    "\n",
    "print(df.columns)"
   ]
  },
  {
   "cell_type": "code",
   "execution_count": 10,
   "id": "cadad13d",
   "metadata": {},
   "outputs": [],
   "source": [
    "# (4) train 데이터와 test 데이터로 분리하기\n",
    "# X와 y 데이터를 각각 train 데이터와 test 데이터로 분리해주세요.\n",
    "\n",
    "x_train, x_test, y_train, y_test = train_test_split(df_X, df_y, test_size=0.2, shuffle=True, random_state=34 )\n",
    "\n",
    "\n",
    "# x_train\n",
    "# x_valid\n",
    "# y_train\n",
    "# y_valid"
   ]
  },
  {
   "cell_type": "code",
   "execution_count": 11,
   "id": "2d9467d6",
   "metadata": {},
   "outputs": [
    {
     "name": "stdout",
     "output_type": "stream",
     "text": [
      "(353, 10) (353,)\n",
      "(89, 10) (89,)\n"
     ]
    }
   ],
   "source": [
    "print(x_train.shape, y_train.shape)\n",
    "print(x_test.shape, y_test.shape)"
   ]
  },
  {
   "cell_type": "code",
   "execution_count": 12,
   "id": "6fba3e0d",
   "metadata": {
    "scrolled": true
   },
   "outputs": [
    {
     "name": "stdout",
     "output_type": "stream",
     "text": [
      "gogo\n"
     ]
    },
    {
     "data": {
      "text/plain": [
       "array([2.02447184, 1.78250034, 2.08675537, 2.05412474, 2.14303157,\n",
       "       1.66760496, 1.98372034, 1.75923482, 1.7265301 , 1.93379522,\n",
       "       2.16298383, 2.17273176, 1.94421044, 2.08035617, 2.21005499,\n",
       "       2.0026904 , 1.98320602, 1.7843435 , 2.29050968, 2.06180865,\n",
       "       2.01611348, 1.78911122, 2.14603122, 2.02512615, 2.0856829 ,\n",
       "       2.16585951, 1.89418989, 2.20915604, 1.81607378, 1.91841818,\n",
       "       2.02484176, 1.68886661, 1.83682545, 1.94992675, 2.15824611,\n",
       "       1.86784252, 1.87170995, 2.18637043, 2.11068845, 1.81633539,\n",
       "       2.10900013, 1.99727723, 1.94866426, 1.95266829, 2.11220399,\n",
       "       1.81620986, 2.21626645, 2.10446466, 1.96794471, 1.96849061,\n",
       "       1.82309861, 2.13441143, 2.23381507, 1.8330237 , 1.89383169,\n",
       "       1.85224884, 2.05922068, 2.12625674, 1.9168928 , 2.12148524,\n",
       "       2.17059643, 2.12885445, 1.99543007, 1.81414964, 1.980964  ,\n",
       "       1.90565286, 1.82394947, 1.94153271, 1.97207192, 2.02554443,\n",
       "       2.16108913, 2.08581574, 1.81503617, 2.10250073, 2.12247589,\n",
       "       2.31281294, 2.07134795, 2.14623394, 2.07017684, 1.89210115,\n",
       "       2.26459102, 2.01287353, 1.88089787, 2.06651314, 1.75808445,\n",
       "       2.24845466, 1.91671564, 2.2954138 , 1.69217251, 1.92849952,\n",
       "       2.15110524, 1.86110951, 1.9267471 , 2.15233473, 1.89276711,\n",
       "       1.93474434, 2.0625634 , 2.15933313, 2.27206941, 1.93645116,\n",
       "       2.02105293, 1.86716388, 1.97354246, 1.90145189, 2.00345841,\n",
       "       2.25262656, 1.9403706 , 1.91412647, 1.96024856, 1.70059677,\n",
       "       1.7122206 , 2.03612118, 2.06030482, 2.17906394, 1.82859209,\n",
       "       2.1039476 , 2.10313345, 1.69348924, 2.23130462, 1.92195369,\n",
       "       2.17375186, 1.98161921, 1.97712923, 2.06058843, 1.90600544,\n",
       "       1.6888187 , 2.01443448, 1.86853153, 2.12624814, 1.81904514,\n",
       "       1.95327633, 1.96722255, 1.75967561, 2.05425513, 1.88523007,\n",
       "       1.68495771, 1.79414243, 1.90237654, 1.94932503, 1.81327304,\n",
       "       2.19688662, 1.8431332 , 2.07391273, 2.05249479, 1.86787415,\n",
       "       2.12877152, 1.89695421, 2.03459315, 1.87241585, 2.12187622,\n",
       "       1.99549251, 1.98324368, 2.05464499, 2.14011116, 2.20191611,\n",
       "       2.11086159, 2.00945091, 1.98378083, 1.88782845, 2.06660871,\n",
       "       2.03069306, 2.14819019, 1.93144699, 2.19750496, 1.81226219,\n",
       "       1.84320887, 1.83484853, 1.91742223, 2.07366527, 1.99620164,\n",
       "       2.11126992, 1.77521352, 1.86161027, 2.06577211, 1.83853673,\n",
       "       2.07710581, 2.09858345, 2.06680293, 1.85827849, 1.89590159,\n",
       "       1.81287466, 2.00031267, 2.08017538, 1.984302  , 1.90610517,\n",
       "       2.30184288, 2.03350506, 2.100431  , 1.85874766, 1.95602154,\n",
       "       2.17510233, 1.64437239, 1.86575241, 1.98224026, 1.97915903,\n",
       "       1.88749242, 2.00725037, 2.00237829, 1.85631161, 1.93543696,\n",
       "       1.80901813, 2.07626303, 2.08075668, 2.07359262, 1.8344141 ,\n",
       "       1.80070878, 2.00894437, 1.8616001 , 2.14219563, 2.27906683,\n",
       "       1.93762155, 2.25310342, 1.97887036, 2.08829628, 1.86912558,\n",
       "       2.05203688, 2.10816562, 1.83743253, 2.00797502, 1.93417517,\n",
       "       2.12172674, 1.82293246, 1.99629651, 2.04314443, 2.11180641,\n",
       "       1.73925782, 2.19400092, 2.17018458, 1.96930687, 1.94757761,\n",
       "       2.06342405, 1.7496934 , 1.94176775, 2.09654821, 1.70897317,\n",
       "       2.03356954, 2.23649207, 1.9120183 , 2.01289709, 1.79982845,\n",
       "       2.11168754, 1.97238655, 1.99541878, 2.16891199, 2.06662738,\n",
       "       2.07638104, 2.22256484, 1.96086329, 1.96377345, 2.19964889,\n",
       "       1.9530931 , 2.16426841, 2.24971979, 2.10877264, 1.87824538,\n",
       "       2.24776016, 2.13899936, 2.12415212, 2.16620168, 1.87888801,\n",
       "       2.06123829, 1.98583202, 1.96470074, 1.95277817, 2.09616308,\n",
       "       2.0304773 , 2.17701271, 1.89345641, 2.00699872, 2.20068138,\n",
       "       1.74853787, 2.11960741, 2.03490159, 1.98746637, 1.96059006,\n",
       "       1.66513384, 1.83376536, 2.12003295, 2.01743225, 2.13697711,\n",
       "       1.92956159, 2.10204627, 1.96283591, 2.03443245, 2.16845494,\n",
       "       1.70045313, 2.09535971, 2.16414958, 1.991522  , 2.24578122,\n",
       "       2.10509248, 1.87613697, 2.05876181, 2.06061467, 1.9047073 ,\n",
       "       1.87093633, 1.97538411, 2.14868508, 1.75491598, 2.18498934,\n",
       "       2.08988626, 1.76149368, 1.98621386, 1.92993952, 2.02153566,\n",
       "       1.79284517, 1.9470447 , 2.2378555 , 2.27618614, 1.75372677,\n",
       "       2.00676022, 1.90116581, 2.05380314, 2.18284834, 2.18413143,\n",
       "       2.04495253, 1.81317578, 1.96230275, 2.0936088 , 1.99403398,\n",
       "       1.76912148, 1.71279432, 1.98726692, 1.90123314, 2.07495333,\n",
       "       1.91165639, 2.14400697, 1.87950733, 1.81969665, 1.84863384,\n",
       "       1.94220406, 2.03010792, 2.09222176, 2.15102313, 2.1235516 ,\n",
       "       2.09052769, 1.80522603, 1.88793236, 2.04855894, 2.21460534,\n",
       "       1.88879451, 2.03921125, 1.87286748, 2.08817875, 2.0914251 ,\n",
       "       1.98792182, 2.04088485, 2.18081903, 1.94594008, 1.99317375,\n",
       "       1.94305253, 2.24641604, 1.87308808])"
      ]
     },
     "execution_count": 12,
     "metadata": {},
     "output_type": "execute_result"
    }
   ],
   "source": [
    "# (5)모델 준비하기\n",
    "# 입력 데이터 개수에 맞는 가중치 w와 b를 준비해주세요.\n",
    "# 모델 함수를 구현해주세요.\n",
    "\n",
    "\n",
    "# 행렬일떄는 대문자, 단일값일때는 소문자 \n",
    "\n",
    "W = np.random.rand(10)\n",
    "b = np.random.rand()\n",
    "\n",
    "\n",
    "def model(X, W, b):\n",
    "    # w와 b를 넣어야함\n",
    "    predictions = 0\n",
    "    for i in range(10):\n",
    "        predictions += X[:, i] * W[i]\n",
    "    predictions += b\n",
    "    return predictions\n",
    "print(\"gogo\")\n",
    "\n",
    "model(X = x_train, W=W, b=2)"
   ]
  },
  {
   "cell_type": "code",
   "execution_count": 13,
   "id": "6cbe59a2",
   "metadata": {},
   "outputs": [
    {
     "name": "stdout",
     "output_type": "stream",
     "text": [
      "gogo\n"
     ]
    }
   ],
   "source": [
    "def MSE(a, b):\n",
    "    mse = ((a - b) ** 2).mean()  # 두 값의 차이의 제곱의 평균\n",
    "    return mse\n",
    "print(\"gogo\")"
   ]
  },
  {
   "cell_type": "code",
   "execution_count": 14,
   "id": "d5b8478b",
   "metadata": {},
   "outputs": [
    {
     "name": "stdout",
     "output_type": "stream",
     "text": [
      "gogo\n"
     ]
    }
   ],
   "source": [
    "# (6) 손실함수 loss 정의하기\n",
    "def loss(X, W, b, y):\n",
    "    predictions = model(X, W, b)\n",
    "    L = MSE(predictions, y)\n",
    "    return L\n",
    "print(\"gogo\")"
   ]
  },
  {
   "cell_type": "code",
   "execution_count": 17,
   "id": "62e31d59",
   "metadata": {},
   "outputs": [
    {
     "name": "stdout",
     "output_type": "stream",
     "text": [
      "gogo\n"
     ]
    }
   ],
   "source": [
    "# (7) 기울기를 구하는 gradient 함수 구현하기\n",
    "def gradient(X, W, b, y):\n",
    "    N = len(y)\n",
    "    \n",
    "    # y_pred 준비\n",
    "    y_pred = model(X, W, b)\n",
    "    \n",
    "    # 공식에 맞게 gradient 계산\n",
    "    dW = 1/N*2*X.T.dot(y_pred -y)\n",
    "    \n",
    "    # b의 gradient 계산\n",
    "    db = 2*(y_pred - y).mean()\n",
    "    return dW, db\n",
    "print(\"gogo\")"
   ]
  },
  {
   "cell_type": "code",
   "execution_count": 18,
   "id": "8c2da9c5",
   "metadata": {},
   "outputs": [
    {
     "name": "stdout",
     "output_type": "stream",
     "text": [
      "gogo\n",
      "iteration 0: Loss 29921.1630\n",
      "iteration 10: Loss 29204.6116\n",
      "iteration 20: Loss 28701.2313\n",
      "iteration 30: Loss 28345.2252\n",
      "iteration 40: Loss 28091.5181\n",
      "iteration 50: Loss 27909.1918\n",
      "iteration 60: Loss 27777.0048\n",
      "iteration 70: Loss 27680.3326\n",
      "iteration 80: Loss 27609.0783\n",
      "iteration 90: Loss 27556.2459\n"
     ]
    }
   ],
   "source": [
    "# (8) 하이퍼 파라미터인 학습률 설정하기\n",
    "# 학습률, learning rate 를 설정해주세요\n",
    "# 만약 학습이 잘 되지 않는다면 learning rate 값을 한번 여러 가지로 설정하며 실험해 보세요.\n",
    "\n",
    "lr = 1\n",
    "print(\"gogo\")\n",
    "\n",
    "\n",
    "losses = []\n",
    "\n",
    "# epoch = 1000\n",
    "for i in range(1000):\n",
    "    dW, db = gradient(x_train, W, b, y_train)\n",
    "    W -= lr*dW\n",
    "    b -= lr*db\n",
    "    L = loss(x_train, W, b, y_train)\n",
    "    losses.append(L)\n",
    "    if i%10 == 0:\n",
    "        print(\"iteration %d: Loss %0.4f\" % (i, L))"
   ]
  },
  {
   "cell_type": "code",
   "execution_count": 19,
   "id": "06452730",
   "metadata": {},
   "outputs": [
    {
     "data": {
      "image/png": "[encoded data removed]",
      "text/plain": [
       "<Figure size 432x288 with 1 Axes>"
      ]
     },
     "metadata": {
      "needs_background": "light"
     },
     "output_type": "display_data"
    }
   ],
   "source": [
    "plt.plot(losses)\n",
    "plt.show()"
   ]
  },
  {
   "cell_type": "code",
   "execution_count": 25,
   "id": "2f49ec83",
   "metadata": {},
   "outputs": [
    {
     "data": {
      "text/plain": [
       "24238.523893999045"
      ]
     },
     "execution_count": 25,
     "metadata": {},
     "output_type": "execute_result"
    }
   ],
   "source": [
    "prediction = model(x_test, W, b)\n",
    "mse = loss(x_test, W, b, y_test)\n",
    "mse"
   ]
  },
  {
   "cell_type": "code",
   "execution_count": 27,
   "id": "7f04f7f2",
   "metadata": {
    "scrolled": true
   },
   "outputs": [
    {
     "data": {
      "image/png": "[encoded data removed]",
      "text/plain": [
       "<Figure size 432x288 with 1 Axes>"
      ]
     },
     "metadata": {
      "needs_background": "light"
     },
     "output_type": "display_data"
    }
   ],
   "source": [
    "plt.scatter(x_test[:, 0], y_test)\n",
    "plt.scatter(x_test[:, 0], y_test)\n",
    "plt.show()"
   ]
  },
  {
   "cell_type": "code",
   "execution_count": null,
   "id": "9df87e8b",
   "metadata": {},
   "outputs": [],
   "source": []
  },
  {
   "cell_type": "code",
   "execution_count": null,
   "id": "528ae98f",
   "metadata": {},
   "outputs": [],
   "source": []
  },
  {
   "cell_type": "code",
   "execution_count": null,
   "id": "2ba98971",
   "metadata": {},
   "outputs": [],
   "source": []
  },
  {
   "cell_type": "code",
   "execution_count": null,
   "id": "07a10c96",
   "metadata": {},
   "outputs": [],
   "source": []
  },
  {
   "cell_type": "code",
   "execution_count": null,
   "id": "4295e056",
   "metadata": {},
   "outputs": [],
   "source": []
  },
  {
   "cell_type": "code",
   "execution_count": null,
   "id": "d1e8b969",
   "metadata": {},
   "outputs": [],
   "source": []
  },
  {
   "cell_type": "code",
   "execution_count": null,
   "id": "43f9822a",
   "metadata": {},
   "outputs": [],
   "source": []
  }
 ],
 "metadata": {
  "kernelspec": {
   "display_name": "Python 3 (ipykernel)",
   "language": "python",
   "name": "python3"
  },
  "language_info": {
   "codemirror_mode": {
    "name": "ipython",
    "version": 3
   },
   "file_extension": ".py",
   "mimetype": "text/x-python",
   "name": "python",
   "nbconvert_exporter": "python",
   "pygments_lexer": "ipython3",
   "version": "3.9.7"
  }
 },
 "nbformat": 4,
 "nbformat_minor": 5
}
